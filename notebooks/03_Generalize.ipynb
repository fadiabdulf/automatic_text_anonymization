{
 "cells": [
  {
   "cell_type": "code",
   "execution_count": null,
   "metadata": {},
   "outputs": [],
   "source": [
    "import warnings\n",
    "warnings.filterwarnings(\"ignore\")\n",
    "import sys\n",
    "sys.path.insert(1, '..')\n",
    "from classes import DataLoader, MyIterator, Chunker, WordEmbedding, Evaluator, MyBertEmbedding\n",
    "from classes.utils import load_presidio, google_search, results, save_hits, IC, Utility_preservation\n",
    "from tqdm.auto import tqdm, trange\n",
    "import numpy as np\n",
    "import pandas as pd\n",
    "import ast\n",
    "import math"
   ]
  },
  {
   "cell_type": "markdown",
   "metadata": {},
   "source": [
    "## Load data"
   ]
  },
  {
   "cell_type": "code",
   "execution_count": null,
   "metadata": {},
   "outputs": [],
   "source": [
    "in_dir = '../data/wiki/'\n",
    "out_dir = '../data/wiki/'\n",
    "loader = DataLoader(in_dir, out_dir)\n",
    "# load the processed xml files\n",
    "loader.load(load_xml=True)"
   ]
  },
  {
   "cell_type": "code",
   "execution_count": null,
   "metadata": {},
   "outputs": [],
   "source": [
    "soups = loader.get_soups()"
   ]
  },
  {
   "cell_type": "markdown",
   "metadata": {},
   "source": [
    "## Load presidio annotaion"
   ]
  },
  {
   "cell_type": "code",
   "execution_count": null,
   "metadata": {},
   "outputs": [],
   "source": [
    "soups = load_presidio(soups)"
   ]
  },
  {
   "cell_type": "code",
   "execution_count": null,
   "metadata": {},
   "outputs": [],
   "source": [
    "# loader = DataLoader('./generalized/', out_dir)\n",
    "# loader.load(load_xml=None)"
   ]
  },
  {
   "cell_type": "code",
   "execution_count": null,
   "metadata": {},
   "outputs": [],
   "source": [
    "documents = loader.get_chunk_lbl(chunking=True, refresh=True, tokenizer='spacy', testTokenizer=True, originalChunk=True)"
   ]
  },
  {
   "cell_type": "code",
   "execution_count": null,
   "metadata": {},
   "outputs": [],
   "source": [
    "lines = loader.get_lines(abs_tag='originalabstract', chunk=True, tokenizer='stanford', testTokenizer=True, originalChunk=True)\n",
    "docs = list(lines.values())"
   ]
  },
  {
   "cell_type": "markdown",
   "metadata": {},
   "source": [
    "## Load and finetune our pre-trained model on the new articles which they are belong to the generalized entities"
   ]
  },
  {
   "cell_type": "code",
   "execution_count": null,
   "metadata": {},
   "outputs": [],
   "source": [
    "# word embedding parameters\n",
    "vec_size = 300\n",
    "window = 10\n",
    "sg = 1\n",
    "min_count = 1\n",
    "epochs = 10\n",
    "t = 'word2vec'"
   ]
  },
  {
   "cell_type": "code",
   "execution_count": null,
   "metadata": {},
   "outputs": [],
   "source": [
    "%%time\n",
    "# build the embedding Model\n",
    "embeddingModel = WordEmbedding(sg, vec_size, window, min_count, workers=10, t=t)\n",
    "# load the processed xml files\n",
    "in_dir =  '../data/NewArticles/'\n",
    "loader1 = DataLoader(in_dir, in_dir)\n",
    "loader1.load(load_xml=None, generate=True)\n",
    "lines1 = loader1.get_lines(abs_tag='originalabstract', chunk=True, refresh=True, originalChunk=True)\n",
    "docs1 = list(lines1.values())\n",
    "\n",
    "# train the embedding Model\n",
    "embeddingModel.fit(MyIterator(docs + docs1), epochs)\n",
    "# load the model\n",
    "# embeddingModel.load()"
   ]
  },
  {
   "cell_type": "code",
   "execution_count": null,
   "metadata": {},
   "outputs": [],
   "source": [
    "%%time\n",
    "evaluator1 = Evaluator(loader, embeddingModel)"
   ]
  },
  {
   "cell_type": "code",
   "execution_count": null,
   "metadata": {},
   "outputs": [],
   "source": [
    "%%time\n",
    "gen_soups = evaluator1.export_generalized(documents, soups)"
   ]
  },
  {
   "cell_type": "code",
   "execution_count": null,
   "metadata": {},
   "outputs": [],
   "source": [
    "results('fadi & hassan')"
   ]
  },
  {
   "cell_type": "markdown",
   "metadata": {},
   "source": [
    "## Calculate the utility of the anonymized text"
   ]
  },
  {
   "cell_type": "code",
   "execution_count": null,
   "metadata": {},
   "outputs": [],
   "source": [
    "def get_all(tag, tp='g'):\n",
    "    ics = []\n",
    "    cs = []\n",
    "    for key in tqdm(gen_soups, desc=tag):\n",
    "        ic, c = Utility_preservation(gen_soups[key], tag=tag, evaluate=tp, loader=loader)\n",
    "        ics.append(ic)\n",
    "        cs.append(c)\n",
    "    return np.average(ics), sum(cs)\n",
    "\n",
    "def export_table(evaluator, soups, \n",
    "                 rows=['nertext3', 'nertext4', 'nertext7', 'presidio', 'word2vec_gen'], \n",
    "                 alies=['NER 3', 'NER 4', 'NER 7', 'Presidio', 'Our method'], table=None, df=None):\n",
    "    data = {}\n",
    "    if table is None:\n",
    "        table = \"  & Suppression & Generalization & Avg. masked terms \\\\\\\\ \\hline\"\n",
    "    for i in trange(len(rows)):\n",
    "        s, c1 = get_all(tag=rows[i], tp='r')\n",
    "        g, c2 = get_all(tag=rows[i], tp='g')\n",
    "        c = c1\n",
    "        c /= len(soups)\n",
    "        data[alies[i]] = {w:v for w, v in zip(\"Suppression&Generalization&Avg. masked terms\".split('&'), [s, g, c])}\n",
    "        table += \"\\n%s & %.2f\\\\%%  & %.2f\\\\%% & %.2f\\\\%% \\\\\\\\ \\hline \" % (alies[i], s, g, c)\n",
    "        \n",
    "    if not df is None:\n",
    "        df = pd.DataFrame(data).transpose()[\"Suppression&Generalization&Avg. masked terms\".split('&')]\n",
    "    save_hits()\n",
    "    display(df)\n",
    "    return table"
   ]
  },
  {
   "cell_type": "code",
   "execution_count": null,
   "metadata": {},
   "outputs": [],
   "source": [
    "lines = export_table(evaluator1, gen_soups, df=pd.DataFrame())\n",
    "# print(lines)"
   ]
  },
  {
   "cell_type": "code",
   "execution_count": null,
   "metadata": {},
   "outputs": [],
   "source": []
  }
 ],
 "metadata": {
  "kernelspec": {
   "display_name": "Python 3",
   "language": "python",
   "name": "python3"
  },
  "language_info": {
   "codemirror_mode": {
    "name": "ipython",
    "version": 3
   },
   "file_extension": ".py",
   "mimetype": "text/x-python",
   "name": "python",
   "nbconvert_exporter": "python",
   "pygments_lexer": "ipython3",
   "version": "3.6.8"
  }
 },
 "nbformat": 4,
 "nbformat_minor": 4
}
